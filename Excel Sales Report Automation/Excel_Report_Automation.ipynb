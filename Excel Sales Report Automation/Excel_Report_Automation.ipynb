{
 "cells": [
  {
   "cell_type": "markdown",
   "id": "0c5a82a7",
   "metadata": {},
   "source": [
    "# 🧾 Excel Report Automation with Python\n",
    "\n",
    "This notebook demonstrates how to automate the generation of a sales performance report from messy Excel data. The report includes data cleaning, KPI generation, summaries, and a multi-sheet Excel export with formatting.\n",
    "\n",
    "**Tasks Covered:**\n",
    "- Load and inspect messy data\n",
    "- Clean and preprocess the dataset\n",
    "- Generate KPIs and summaries\n",
    "- Export a formatted Excel report\n"
   ]
  },
  {
   "cell_type": "code",
   "execution_count": 18,
   "id": "953f790b",
   "metadata": {},
   "outputs": [],
   "source": [
    "# importing libraries\n",
    "\n",
    "import pandas as pd\n",
    "import numpy as np\n",
    "from datetime import datetime\n",
    "import matplotlib.pyplot as plt\n",
    "import seaborn as sns\n"
   ]
  },
  {
   "cell_type": "code",
   "execution_count": 31,
   "id": "d0545f4a",
   "metadata": {},
   "outputs": [
    {
     "data": {
      "text/html": [
       "<div>\n",
       "<style scoped>\n",
       "    .dataframe tbody tr th:only-of-type {\n",
       "        vertical-align: middle;\n",
       "    }\n",
       "\n",
       "    .dataframe tbody tr th {\n",
       "        vertical-align: top;\n",
       "    }\n",
       "\n",
       "    .dataframe thead th {\n",
       "        text-align: right;\n",
       "    }\n",
       "</style>\n",
       "<table border=\"1\" class=\"dataframe\">\n",
       "  <thead>\n",
       "    <tr style=\"text-align: right;\">\n",
       "      <th></th>\n",
       "      <th>Order ID</th>\n",
       "      <th>Date</th>\n",
       "      <th>Customer Segment</th>\n",
       "      <th>Category</th>\n",
       "      <th>Sub-Category</th>\n",
       "      <th>Product Name</th>\n",
       "      <th>Region</th>\n",
       "      <th>Sales</th>\n",
       "      <th>Profit</th>\n",
       "    </tr>\n",
       "  </thead>\n",
       "  <tbody>\n",
       "    <tr>\n",
       "      <th>0</th>\n",
       "      <td>ORD-1524</td>\n",
       "      <td>2025-01-31</td>\n",
       "      <td>Home Office</td>\n",
       "      <td>Office Supplies</td>\n",
       "      <td>Paper</td>\n",
       "      <td>Same Paper</td>\n",
       "      <td>East</td>\n",
       "      <td>147.46</td>\n",
       "      <td>-16.34</td>\n",
       "    </tr>\n",
       "    <tr>\n",
       "      <th>1</th>\n",
       "      <td>ORD-1603</td>\n",
       "      <td>2024-03-17</td>\n",
       "      <td>Corporate</td>\n",
       "      <td>Technology</td>\n",
       "      <td>Phones</td>\n",
       "      <td>Dream Phones</td>\n",
       "      <td>South</td>\n",
       "      <td>862.02</td>\n",
       "      <td>190.81</td>\n",
       "    </tr>\n",
       "    <tr>\n",
       "      <th>2</th>\n",
       "      <td>ORD-1527</td>\n",
       "      <td>2023-09-13</td>\n",
       "      <td>Consumer</td>\n",
       "      <td>Office Supplies</td>\n",
       "      <td>Paper</td>\n",
       "      <td>Support Paper</td>\n",
       "      <td>Central</td>\n",
       "      <td>401.35</td>\n",
       "      <td>-99.26</td>\n",
       "    </tr>\n",
       "    <tr>\n",
       "      <th>3</th>\n",
       "      <td>ORD-1032</td>\n",
       "      <td>2024-07-31</td>\n",
       "      <td>Corporate</td>\n",
       "      <td>Office Supplies</td>\n",
       "      <td>Labels</td>\n",
       "      <td>Machine Labels</td>\n",
       "      <td>South</td>\n",
       "      <td>950.89</td>\n",
       "      <td>328.88</td>\n",
       "    </tr>\n",
       "    <tr>\n",
       "      <th>4</th>\n",
       "      <td>ORD-1617</td>\n",
       "      <td>2023-11-01</td>\n",
       "      <td>Home Office</td>\n",
       "      <td>Office Supplies</td>\n",
       "      <td>Binders</td>\n",
       "      <td>Grow Binders</td>\n",
       "      <td>East</td>\n",
       "      <td>257.04</td>\n",
       "      <td>89.14</td>\n",
       "    </tr>\n",
       "  </tbody>\n",
       "</table>\n",
       "</div>"
      ],
      "text/plain": [
       "   Order ID       Date Customer Segment         Category Sub-Category  \\\n",
       "0  ORD-1524 2025-01-31      Home Office  Office Supplies        Paper   \n",
       "1  ORD-1603 2024-03-17        Corporate       Technology       Phones   \n",
       "2  ORD-1527 2023-09-13         Consumer  Office Supplies        Paper   \n",
       "3  ORD-1032 2024-07-31        Corporate  Office Supplies       Labels   \n",
       "4  ORD-1617 2023-11-01      Home Office  Office Supplies      Binders   \n",
       "\n",
       "     Product Name   Region   Sales  Profit  \n",
       "0      Same Paper     East  147.46  -16.34  \n",
       "1    Dream Phones    South  862.02  190.81  \n",
       "2   Support Paper  Central  401.35  -99.26  \n",
       "3  Machine Labels    South  950.89  328.88  \n",
       "4    Grow Binders     East  257.04   89.14  "
      ]
     },
     "execution_count": 31,
     "metadata": {},
     "output_type": "execute_result"
    }
   ],
   "source": [
    "# Loading the dataset\n",
    "\n",
    "df= pd.read_excel('data/raw_sales_data.xlsx')\n",
    "\n",
    "# Displaying the first 5 rows of the dataset\n",
    "df.head()"
   ]
  },
  {
   "cell_type": "markdown",
   "id": "501a3c25",
   "metadata": {},
   "source": [
    "### Initial Exploration"
   ]
  },
  {
   "cell_type": "code",
   "execution_count": 32,
   "id": "bb43da56",
   "metadata": {},
   "outputs": [
    {
     "name": "stdout",
     "output_type": "stream",
     "text": [
      "<class 'pandas.core.frame.DataFrame'>\n",
      "RangeIndex: 1020 entries, 0 to 1019\n",
      "Data columns (total 9 columns):\n",
      " #   Column            Non-Null Count  Dtype         \n",
      "---  ------            --------------  -----         \n",
      " 0   Order ID          1018 non-null   object        \n",
      " 1   Date              1018 non-null   datetime64[ns]\n",
      " 2   Customer Segment  1018 non-null   object        \n",
      " 3   Category          1018 non-null   object        \n",
      " 4   Sub-Category      1018 non-null   object        \n",
      " 5   Product Name      1018 non-null   object        \n",
      " 6   Region            1018 non-null   object        \n",
      " 7   Sales             972 non-null    float64       \n",
      " 8   Profit            921 non-null    float64       \n",
      "dtypes: datetime64[ns](1), float64(2), object(6)\n",
      "memory usage: 71.8+ KB\n"
     ]
    }
   ],
   "source": [
    "df.info()"
   ]
  },
  {
   "cell_type": "code",
   "execution_count": 33,
   "id": "d1c504fb",
   "metadata": {},
   "outputs": [
    {
     "data": {
      "text/html": [
       "<div>\n",
       "<style scoped>\n",
       "    .dataframe tbody tr th:only-of-type {\n",
       "        vertical-align: middle;\n",
       "    }\n",
       "\n",
       "    .dataframe tbody tr th {\n",
       "        vertical-align: top;\n",
       "    }\n",
       "\n",
       "    .dataframe thead th {\n",
       "        text-align: right;\n",
       "    }\n",
       "</style>\n",
       "<table border=\"1\" class=\"dataframe\">\n",
       "  <thead>\n",
       "    <tr style=\"text-align: right;\">\n",
       "      <th></th>\n",
       "      <th>Date</th>\n",
       "      <th>Sales</th>\n",
       "      <th>Profit</th>\n",
       "    </tr>\n",
       "  </thead>\n",
       "  <tbody>\n",
       "    <tr>\n",
       "      <th>count</th>\n",
       "      <td>1018</td>\n",
       "      <td>972.000000</td>\n",
       "      <td>921.000000</td>\n",
       "    </tr>\n",
       "    <tr>\n",
       "      <th>mean</th>\n",
       "      <td>2024-06-12 16:18:51.630648320</td>\n",
       "      <td>520.525123</td>\n",
       "      <td>55.429262</td>\n",
       "    </tr>\n",
       "    <tr>\n",
       "      <th>min</th>\n",
       "      <td>2023-06-11 00:00:00</td>\n",
       "      <td>11.350000</td>\n",
       "      <td>-272.680000</td>\n",
       "    </tr>\n",
       "    <tr>\n",
       "      <th>25%</th>\n",
       "      <td>2023-12-15 00:00:00</td>\n",
       "      <td>272.392500</td>\n",
       "      <td>-23.020000</td>\n",
       "    </tr>\n",
       "    <tr>\n",
       "      <th>50%</th>\n",
       "      <td>2024-06-12 00:00:00</td>\n",
       "      <td>537.225000</td>\n",
       "      <td>33.730000</td>\n",
       "    </tr>\n",
       "    <tr>\n",
       "      <th>75%</th>\n",
       "      <td>2024-12-10 00:00:00</td>\n",
       "      <td>757.977500</td>\n",
       "      <td>126.530000</td>\n",
       "    </tr>\n",
       "    <tr>\n",
       "      <th>max</th>\n",
       "      <td>2025-06-10 00:00:00</td>\n",
       "      <td>999.930000</td>\n",
       "      <td>489.710000</td>\n",
       "    </tr>\n",
       "    <tr>\n",
       "      <th>std</th>\n",
       "      <td>NaN</td>\n",
       "      <td>280.534137</td>\n",
       "      <td>134.633814</td>\n",
       "    </tr>\n",
       "  </tbody>\n",
       "</table>\n",
       "</div>"
      ],
      "text/plain": [
       "                                Date       Sales      Profit\n",
       "count                           1018  972.000000  921.000000\n",
       "mean   2024-06-12 16:18:51.630648320  520.525123   55.429262\n",
       "min              2023-06-11 00:00:00   11.350000 -272.680000\n",
       "25%              2023-12-15 00:00:00  272.392500  -23.020000\n",
       "50%              2024-06-12 00:00:00  537.225000   33.730000\n",
       "75%              2024-12-10 00:00:00  757.977500  126.530000\n",
       "max              2025-06-10 00:00:00  999.930000  489.710000\n",
       "std                              NaN  280.534137  134.633814"
      ]
     },
     "execution_count": 33,
     "metadata": {},
     "output_type": "execute_result"
    }
   ],
   "source": [
    "df.describe()"
   ]
  },
  {
   "cell_type": "code",
   "execution_count": 34,
   "id": "7c98f0b5",
   "metadata": {},
   "outputs": [
    {
     "data": {
      "text/plain": [
       "Order ID             2\n",
       "Date                 2\n",
       "Customer Segment     2\n",
       "Category             2\n",
       "Sub-Category         2\n",
       "Product Name         2\n",
       "Region               2\n",
       "Sales               48\n",
       "Profit              99\n",
       "dtype: int64"
      ]
     },
     "execution_count": 34,
     "metadata": {},
     "output_type": "execute_result"
    }
   ],
   "source": [
    "df.isnull().sum()"
   ]
  },
  {
   "cell_type": "code",
   "execution_count": 35,
   "id": "e6f64795",
   "metadata": {},
   "outputs": [
    {
     "data": {
      "text/plain": [
       "21"
      ]
     },
     "execution_count": 35,
     "metadata": {},
     "output_type": "execute_result"
    }
   ],
   "source": [
    "df.duplicated().sum()"
   ]
  },
  {
   "cell_type": "markdown",
   "id": "6d40ea4c",
   "metadata": {},
   "source": [
    "### Data Cleaning Steps\n",
    "- Remove blank rows\n",
    "- Drop duplicates\n",
    "- Handle missing values in Sales and Profit"
   ]
  },
  {
   "cell_type": "code",
   "execution_count": 36,
   "id": "83cd7db5",
   "metadata": {},
   "outputs": [
    {
     "data": {
      "text/plain": [
       "Order ID             0\n",
       "Date                 0\n",
       "Customer Segment     0\n",
       "Category             0\n",
       "Sub-Category         0\n",
       "Product Name         0\n",
       "Region               0\n",
       "Sales               46\n",
       "Profit              97\n",
       "dtype: int64"
      ]
     },
     "execution_count": 36,
     "metadata": {},
     "output_type": "execute_result"
    }
   ],
   "source": [
    "# Drop completely empty rows\n",
    "df.dropna(how='all', inplace=True)\n",
    "\n",
    "df.isnull().sum()"
   ]
  },
  {
   "cell_type": "code",
   "execution_count": 37,
   "id": "345b9d11",
   "metadata": {},
   "outputs": [
    {
     "data": {
      "text/plain": [
       "0"
      ]
     },
     "execution_count": 37,
     "metadata": {},
     "output_type": "execute_result"
    }
   ],
   "source": [
    "# Remove Duplicate Rows\n",
    "\n",
    "df.drop_duplicates(inplace=True)\n",
    "df.duplicated().sum()"
   ]
  },
  {
   "cell_type": "code",
   "execution_count": 39,
   "id": "541f62f1",
   "metadata": {},
   "outputs": [
    {
     "data": {
      "text/plain": [
       "Order ID            0\n",
       "Date                0\n",
       "Customer Segment    0\n",
       "Category            0\n",
       "Sub-Category        0\n",
       "Product Name        0\n",
       "Region              0\n",
       "Sales               0\n",
       "Profit              0\n",
       "dtype: int64"
      ]
     },
     "execution_count": 39,
     "metadata": {},
     "output_type": "execute_result"
    }
   ],
   "source": [
    "# Fill missing sales and profit values with their mean\n",
    "\n",
    "# Fill missing values in 'Sales' column with the mean of the column\n",
    "df['Sales'].fillna(df['Sales'].mean())\n",
    "\n",
    "\n",
    "# Fill missing values in 'Profit' column with the mean of the column\n",
    "df['Profit'].fillna(df['Profit'].mean())\n",
    "\n",
    "# Check if there are any missing values left\n",
    "\n",
    "df.isnull().sum()"
   ]
  },
  {
   "cell_type": "code",
   "execution_count": 41,
   "id": "1345a382",
   "metadata": {},
   "outputs": [
    {
     "data": {
      "text/html": [
       "<div>\n",
       "<style scoped>\n",
       "    .dataframe tbody tr th:only-of-type {\n",
       "        vertical-align: middle;\n",
       "    }\n",
       "\n",
       "    .dataframe tbody tr th {\n",
       "        vertical-align: top;\n",
       "    }\n",
       "\n",
       "    .dataframe thead th {\n",
       "        text-align: right;\n",
       "    }\n",
       "</style>\n",
       "<table border=\"1\" class=\"dataframe\">\n",
       "  <thead>\n",
       "    <tr style=\"text-align: right;\">\n",
       "      <th></th>\n",
       "      <th>Order ID</th>\n",
       "      <th>Date</th>\n",
       "      <th>Customer Segment</th>\n",
       "      <th>Category</th>\n",
       "      <th>Sub-Category</th>\n",
       "      <th>Product Name</th>\n",
       "      <th>Region</th>\n",
       "      <th>Sales</th>\n",
       "      <th>Profit</th>\n",
       "    </tr>\n",
       "  </thead>\n",
       "  <tbody>\n",
       "    <tr>\n",
       "      <th>0</th>\n",
       "      <td>ORD-1524</td>\n",
       "      <td>2025-01-31</td>\n",
       "      <td>Home Office</td>\n",
       "      <td>Office Supplies</td>\n",
       "      <td>Paper</td>\n",
       "      <td>Same Paper</td>\n",
       "      <td>East</td>\n",
       "      <td>147.46</td>\n",
       "      <td>-16.34</td>\n",
       "    </tr>\n",
       "    <tr>\n",
       "      <th>1</th>\n",
       "      <td>ORD-1603</td>\n",
       "      <td>2024-03-17</td>\n",
       "      <td>Corporate</td>\n",
       "      <td>Technology</td>\n",
       "      <td>Phones</td>\n",
       "      <td>Dream Phones</td>\n",
       "      <td>South</td>\n",
       "      <td>862.02</td>\n",
       "      <td>190.81</td>\n",
       "    </tr>\n",
       "    <tr>\n",
       "      <th>2</th>\n",
       "      <td>ORD-1527</td>\n",
       "      <td>2023-09-13</td>\n",
       "      <td>Consumer</td>\n",
       "      <td>Office Supplies</td>\n",
       "      <td>Paper</td>\n",
       "      <td>Support Paper</td>\n",
       "      <td>Central</td>\n",
       "      <td>401.35</td>\n",
       "      <td>-99.26</td>\n",
       "    </tr>\n",
       "    <tr>\n",
       "      <th>3</th>\n",
       "      <td>ORD-1032</td>\n",
       "      <td>2024-07-31</td>\n",
       "      <td>Corporate</td>\n",
       "      <td>Office Supplies</td>\n",
       "      <td>Labels</td>\n",
       "      <td>Machine Labels</td>\n",
       "      <td>South</td>\n",
       "      <td>950.89</td>\n",
       "      <td>328.88</td>\n",
       "    </tr>\n",
       "    <tr>\n",
       "      <th>4</th>\n",
       "      <td>ORD-1617</td>\n",
       "      <td>2023-11-01</td>\n",
       "      <td>Home Office</td>\n",
       "      <td>Office Supplies</td>\n",
       "      <td>Binders</td>\n",
       "      <td>Grow Binders</td>\n",
       "      <td>East</td>\n",
       "      <td>257.04</td>\n",
       "      <td>89.14</td>\n",
       "    </tr>\n",
       "  </tbody>\n",
       "</table>\n",
       "</div>"
      ],
      "text/plain": [
       "   Order ID       Date Customer Segment         Category Sub-Category  \\\n",
       "0  ORD-1524 2025-01-31      Home Office  Office Supplies        Paper   \n",
       "1  ORD-1603 2024-03-17        Corporate       Technology       Phones   \n",
       "2  ORD-1527 2023-09-13         Consumer  Office Supplies        Paper   \n",
       "3  ORD-1032 2024-07-31        Corporate  Office Supplies       Labels   \n",
       "4  ORD-1617 2023-11-01      Home Office  Office Supplies      Binders   \n",
       "\n",
       "     Product Name   Region   Sales  Profit  \n",
       "0      Same Paper     East  147.46  -16.34  \n",
       "1    Dream Phones    South  862.02  190.81  \n",
       "2   Support Paper  Central  401.35  -99.26  \n",
       "3  Machine Labels    South  950.89  328.88  \n",
       "4    Grow Binders     East  257.04   89.14  "
      ]
     },
     "execution_count": 41,
     "metadata": {},
     "output_type": "execute_result"
    }
   ],
   "source": [
    "# convert the 'Order Date' column to datetime format\n",
    "\n",
    "df['Date']=pd.to_datetime(df['Date'], format='%d%m/%Y')\n",
    "\n",
    "df.head()"
   ]
  },
  {
   "cell_type": "markdown",
   "id": "58150790",
   "metadata": {},
   "source": [
    "### Generate KPIs and Summaries"
   ]
  },
  {
   "cell_type": "code",
   "execution_count": 56,
   "id": "8a440a7b",
   "metadata": {},
   "outputs": [
    {
     "name": "stdout",
     "output_type": "stream",
     "text": [
      "Total Sales:519368.61\n",
      "Total Profit:55013.26\n",
      "Total Orders:998\n",
      "----------------- \n",
      "\n",
      "    Region      Sales    Profit\n",
      "0  Central   93059.79   8021.06\n",
      "1     East  109462.64  11646.61\n",
      "2    North  103573.20   9120.91\n",
      "3    South   99368.96  11095.01\n",
      "4     West  113904.02  15129.67\n",
      "----------------- \n",
      "\n",
      "        Product Name    Sales\n",
      "0   Industry Binders  1897.71\n",
      "1        Low Laptops  1878.22\n",
      "2       Four Binders  1751.07\n",
      "3       Right Labels  1749.06\n",
      "4         We Laptops  1744.58\n",
      "5  Direction Binders  1644.17\n",
      "6     Machine Labels  1585.03\n"
     ]
    }
   ],
   "source": [
    "# Generate KPIs\n",
    "\n",
    "total_sales = round(df['Sales'].sum(), 2)\n",
    "total_profit = round(df['Profit'].sum(),2)\n",
    "total_orders = df['Order ID'].count()\n",
    "average_order_value = total_sales / total_orders\n",
    "average_profit_margin = (total_profit / total_sales) * 100\n",
    "\n",
    "\n",
    "# Summarize by region\n",
    "region_summary= round(df.groupby('Region')[['Sales','Profit']].sum().reset_index(),2)\n",
    "\n",
    "# Top 7 Products by Sales\n",
    "\n",
    "# Correct way to define it\n",
    "top_products = df.groupby('Product Name')['Sales'].sum().sort_values(ascending=False).head(7).reset_index()\n",
    "\n",
    "# Print KPIs and Summaries\n",
    "\n",
    "print(f\"Total Sales:{total_sales}\")\n",
    "print(f\"Total Profit:{total_profit}\")\n",
    "print(f\"Total Orders:{total_orders}\")\n",
    "\n",
    "print(\"----------------- \\n\")\n",
    "\n",
    "print(region_summary)\n",
    "\n",
    "print(\"----------------- \\n\")\n",
    "print(top_products)"
   ]
  },
  {
   "cell_type": "markdown",
   "id": "0365e286",
   "metadata": {},
   "source": [
    "### Export Report to Excel"
   ]
  },
  {
   "cell_type": "code",
   "execution_count": 66,
   "id": "1d9bfc63",
   "metadata": {},
   "outputs": [
    {
     "name": "stdout",
     "output_type": "stream",
     "text": [
      "✅ Report saved to: data/sales_report_2025-06-12_00-15-31.xlsx\n"
     ]
    }
   ],
   "source": [
    "from datetime import datetime\n",
    "\n",
    "timestamp = datetime.now().strftime('%Y-%m-%d_%H-%M-%S')\n",
    "report_path = f'data/sales_report_{timestamp}.xlsx'\n",
    "\n",
    "with pd.ExcelWriter(report_path, engine='xlsxwriter') as writer:\n",
    "    # Write sheets\n",
    "    df.to_excel(writer, index=False, sheet_name='Cleaned Data')\n",
    "    region_summary.to_excel(writer, index=False, sheet_name='Region Summary')\n",
    "    top_products.to_excel(writer, index=False, sheet_name='Top Products')\n",
    "\n",
    "    # KPI Sheet\n",
    "    pd.DataFrame({\n",
    "        'Metric': ['Total Sales', 'Total Profit', 'Total Orders'],\n",
    "        'Value': [total_sales, total_profit, total_orders]\n",
    "    }).to_excel(writer, index=False, sheet_name='KPIs')\n",
    "\n",
    "    # Access workbook and formatting\n",
    "    workbook = writer.book\n",
    "    currency_fmt = workbook.add_format({'num_format': '$#,##0.00', 'bold': True})\n",
    "\n",
    "    # Apply formatting to numeric columns\n",
    "    for sheet in ['Region Summary', 'Top Products', 'KPIs']:\n",
    "        worksheet = writer.sheets[sheet]\n",
    "        worksheet.set_column('B:B', 18, currency_fmt)\n",
    "\n",
    "    # ➕ Insert column chart into Region Summary sheet\n",
    "    worksheet = writer.sheets['Region Summary']\n",
    "    chart = workbook.add_chart({'type': 'column'})\n",
    "\n",
    "    chart.add_series({\n",
    "        'name': 'Sales by Region',\n",
    "        'categories': ['Region Summary', 1, 0, len(region_summary), 0],\n",
    "        'values': ['Region Summary', 1, 1, len(region_summary), 1],\n",
    "    })\n",
    "\n",
    "    chart.set_title({'name': 'Sales by Region'})\n",
    "    chart.set_x_axis({'name': 'Region'})\n",
    "    chart.set_y_axis({\n",
    "        'name': 'Sales ($)',\n",
    "        'major_unit': 500  # Spacing on Y-axis set to 500\n",
    "    })\n",
    "    chart.set_style(11)\n",
    "    worksheet.insert_chart('E2', chart)\n",
    "\n",
    "    # ➕ Insert bar chart into Top Products sheet\n",
    "    worksheet = writer.sheets['Top Products']\n",
    "    chart = workbook.add_chart({'type': 'column'})\n",
    "\n",
    "    chart.add_series({\n",
    "        'name': 'Top Products',\n",
    "        'categories': ['Top Products', 1, 0, len(top_products), 0],\n",
    "        'values': ['Top Products', 1, 1, len(top_products), 1],\n",
    "    })\n",
    "\n",
    "    chart.set_title({'name': 'Top Products by Sales'})\n",
    "    chart.set_x_axis({'name': 'Product Name'})\n",
    "    chart.set_y_axis({\n",
    "        'name': 'Sales ($)',\n",
    "        'major_unit': 500  # Spacing on Y-axis set to 500\n",
    "    })\n",
    "    chart.set_style(11)\n",
    "    worksheet.insert_chart('E2', chart)\n",
    "\n",
    "print(f\"✅ Report saved to: {report_path}\")\n"
   ]
  },
  {
   "cell_type": "code",
   "execution_count": 58,
   "id": "487f95ff",
   "metadata": {},
   "outputs": [
    {
     "data": {
      "image/png": "[encoded data removed]",
      "text/plain": [
       "<Figure size 640x480 with 1 Axes>"
      ]
     },
     "metadata": {},
     "output_type": "display_data"
    }
   ],
   "source": [
    "region_summary.plot(kind='bar', x='Region', y='Sales', legend=False, title='Sales by Region')\n",
    "plt.ylabel('Sales ($)')\n",
    "plt.tight_layout()\n",
    "plt.show()\n"
   ]
  },
  {
   "cell_type": "code",
   "execution_count": 59,
   "id": "5ed76778",
   "metadata": {},
   "outputs": [
    {
     "data": {
      "image/png": "[encoded data removed]",
      "text/plain": [
       "<Figure size 640x480 with 1 Axes>"
      ]
     },
     "metadata": {},
     "output_type": "display_data"
    }
   ],
   "source": [
    "top_products.plot(kind='bar', x='Product Name', y='Sales', legend=False, title='Top 7 Products by Sales')\n",
    "plt.ylabel('Sales ($)')     \n",
    "plt.show()"
   ]
  }
 ],
 "metadata": {
  "kernelspec": {
   "display_name": "base",
   "language": "python",
   "name": "python3"
  },
  "language_info": {
   "codemirror_mode": {
    "name": "ipython",
    "version": 3
   },
   "file_extension": ".py",
   "mimetype": "text/x-python",
   "name": "python",
   "nbconvert_exporter": "python",
   "pygments_lexer": "ipython3",
   "version": "3.12.7"
  }
 },
 "nbformat": 4,
 "nbformat_minor": 5
}
